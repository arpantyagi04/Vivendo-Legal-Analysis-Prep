{
 "cells": [
  {
   "cell_type": "markdown",
   "id": "675ad27e",
   "metadata": {},
   "source": [
    "# Background\n",
    "Vivendo is a fast food chain in Brazil with over 200 outlets.\n",
    "Customers often claim compensation from the company for food poisoning.\n",
    "The legal team processes these claims. The legal team has offices in four locations.\n",
    "The legal team wants to improve how long it takes to reply to customers and close claims.\n",
    "The head of the legal department wants a report on how each location differs in the time it\n",
    "takes to close claims."
   ]
  },
  {
   "cell_type": "code",
   "execution_count": 1,
   "id": "1bd62f2b",
   "metadata": {},
   "outputs": [],
   "source": [
    "import pandas as pd\n",
    "import numpy as np"
   ]
  },
  {
   "cell_type": "code",
   "execution_count": 2,
   "id": "132e57f2",
   "metadata": {},
   "outputs": [],
   "source": [
    "#reading the dataset\n",
    "new=pd.read_csv(\"food_claims_2212.csv\")"
   ]
  },
  {
   "cell_type": "code",
   "execution_count": 42,
   "id": "ec744bc8",
   "metadata": {},
   "outputs": [
    {
     "data": {
      "text/html": [
       "<div>\n",
       "<style scoped>\n",
       "    .dataframe tbody tr th:only-of-type {\n",
       "        vertical-align: middle;\n",
       "    }\n",
       "\n",
       "    .dataframe tbody tr th {\n",
       "        vertical-align: top;\n",
       "    }\n",
       "\n",
       "    .dataframe thead th {\n",
       "        text-align: right;\n",
       "    }\n",
       "</style>\n",
       "<table border=\"1\" class=\"dataframe\">\n",
       "  <thead>\n",
       "    <tr style=\"text-align: right;\">\n",
       "      <th></th>\n",
       "      <th>claim_id</th>\n",
       "      <th>time_to_close</th>\n",
       "      <th>claim_amount</th>\n",
       "      <th>amount_paid</th>\n",
       "      <th>location</th>\n",
       "      <th>individuals_on_claim</th>\n",
       "      <th>linked_cases</th>\n",
       "      <th>cause</th>\n",
       "    </tr>\n",
       "  </thead>\n",
       "  <tbody>\n",
       "    <tr>\n",
       "      <th>0</th>\n",
       "      <td>1</td>\n",
       "      <td>317</td>\n",
       "      <td>74474.55</td>\n",
       "      <td>51231.37</td>\n",
       "      <td>RECIFE</td>\n",
       "      <td>15</td>\n",
       "      <td>False</td>\n",
       "      <td>unknown</td>\n",
       "    </tr>\n",
       "  </tbody>\n",
       "</table>\n",
       "</div>"
      ],
      "text/plain": [
       "   claim_id  time_to_close  claim_amount  amount_paid location  \\\n",
       "0         1            317      74474.55     51231.37   RECIFE   \n",
       "\n",
       "   individuals_on_claim  linked_cases    cause  \n",
       "0                    15         False  unknown  "
      ]
     },
     "execution_count": 42,
     "metadata": {},
     "output_type": "execute_result"
    }
   ],
   "source": [
    "new.head(1)"
   ]
  },
  {
   "cell_type": "code",
   "execution_count": 5,
   "id": "14acb210",
   "metadata": {},
   "outputs": [],
   "source": [
    "# Remove the 'R$' from the claim amount column\n",
    "new['claim_amount'] = new['claim_amount'].str.replace('R$ ','', regex=False)"
   ]
  },
  {
   "cell_type": "code",
   "execution_count": 41,
   "id": "cae96e64",
   "metadata": {},
   "outputs": [
    {
     "data": {
      "text/html": [
       "<div>\n",
       "<style scoped>\n",
       "    .dataframe tbody tr th:only-of-type {\n",
       "        vertical-align: middle;\n",
       "    }\n",
       "\n",
       "    .dataframe tbody tr th {\n",
       "        vertical-align: top;\n",
       "    }\n",
       "\n",
       "    .dataframe thead th {\n",
       "        text-align: right;\n",
       "    }\n",
       "</style>\n",
       "<table border=\"1\" class=\"dataframe\">\n",
       "  <thead>\n",
       "    <tr style=\"text-align: right;\">\n",
       "      <th></th>\n",
       "      <th>claim_id</th>\n",
       "      <th>time_to_close</th>\n",
       "      <th>claim_amount</th>\n",
       "      <th>amount_paid</th>\n",
       "      <th>location</th>\n",
       "      <th>individuals_on_claim</th>\n",
       "      <th>linked_cases</th>\n",
       "      <th>cause</th>\n",
       "    </tr>\n",
       "  </thead>\n",
       "  <tbody>\n",
       "    <tr>\n",
       "      <th>0</th>\n",
       "      <td>1</td>\n",
       "      <td>317</td>\n",
       "      <td>74474.55</td>\n",
       "      <td>51231.37</td>\n",
       "      <td>RECIFE</td>\n",
       "      <td>15</td>\n",
       "      <td>False</td>\n",
       "      <td>unknown</td>\n",
       "    </tr>\n",
       "  </tbody>\n",
       "</table>\n",
       "</div>"
      ],
      "text/plain": [
       "   claim_id  time_to_close  claim_amount  amount_paid location  \\\n",
       "0         1            317      74474.55     51231.37   RECIFE   \n",
       "\n",
       "   individuals_on_claim  linked_cases    cause  \n",
       "0                    15         False  unknown  "
      ]
     },
     "execution_count": 41,
     "metadata": {},
     "output_type": "execute_result"
    }
   ],
   "source": [
    "new.head(1)"
   ]
  },
  {
   "cell_type": "code",
   "execution_count": 8,
   "id": "700e5619",
   "metadata": {},
   "outputs": [],
   "source": [
    "# Change the data type of the claim amount column from string to numeric\n",
    "new['claim_amount'] = pd.to_numeric(new['claim_amount'], errors='coerce')"
   ]
  },
  {
   "cell_type": "code",
   "execution_count": 10,
   "id": "cb11942c",
   "metadata": {},
   "outputs": [],
   "source": [
    "# Change the data type of the amount paid column from string to numeric\n",
    "new['amount_paid'] = pd.to_numeric(new['amount_paid'], errors='coerce')"
   ]
  },
  {
   "cell_type": "code",
   "execution_count": 11,
   "id": "d6745c81",
   "metadata": {},
   "outputs": [],
   "source": [
    "# Filling the missing values in amount paid column with the median amount\n",
    "overall_median = new['amount_paid'].median()\n",
    "new['amount_paid'].fillna(overall_median, inplace=True)"
   ]
  },
  {
   "cell_type": "code",
   "execution_count": 14,
   "id": "31350f15",
   "metadata": {},
   "outputs": [],
   "source": [
    "# Filling the missing values in linked cases column with 'False'\n",
    "new['linked_cases'].fillna(False, inplace=True)"
   ]
  },
  {
   "cell_type": "code",
   "execution_count": 18,
   "id": "85134102",
   "metadata": {},
   "outputs": [],
   "source": [
    "# Replacing the strings 'Meat' to 'meat' and 'VEGETABLES' to 'vegetable' in cause column\n",
    "new['cause'] = new['cause'].str.replace('Meat','meat', case=False)\n",
    "new['cause'] = new['cause'].str.replace('VEGETABLES','vegetable', case=False)"
   ]
  },
  {
   "cell_type": "code",
   "execution_count": 19,
   "id": "bac17a3d",
   "metadata": {},
   "outputs": [
    {
     "data": {
      "text/plain": [
       "claim_id                False\n",
       "time_to_close           False\n",
       "claim_amount            False\n",
       "amount_paid             False\n",
       "location                False\n",
       "individuals_on_claim    False\n",
       "linked_cases            False\n",
       "cause                   False\n",
       "dtype: bool"
      ]
     },
     "execution_count": 19,
     "metadata": {},
     "output_type": "execute_result"
    }
   ],
   "source": [
    "new.isna().any()"
   ]
  },
  {
   "cell_type": "code",
   "execution_count": 20,
   "id": "8b801d28",
   "metadata": {},
   "outputs": [
    {
     "data": {
      "text/plain": [
       "2000"
      ]
     },
     "execution_count": 20,
     "metadata": {},
     "output_type": "execute_result"
    }
   ],
   "source": [
    "new.shape[0]"
   ]
  },
  {
   "cell_type": "code",
   "execution_count": 25,
   "id": "215e6397",
   "metadata": {},
   "outputs": [],
   "source": [
    "new.to_csv(\"food_claims.csv\", index=False)"
   ]
  }
 ],
 "metadata": {
  "kernelspec": {
   "display_name": "Python 3 (ipykernel)",
   "language": "python",
   "name": "python3"
  },
  "language_info": {
   "codemirror_mode": {
    "name": "ipython",
    "version": 3
   },
   "file_extension": ".py",
   "mimetype": "text/x-python",
   "name": "python",
   "nbconvert_exporter": "python",
   "pygments_lexer": "ipython3",
   "version": "3.9.7"
  }
 },
 "nbformat": 4,
 "nbformat_minor": 5
}
